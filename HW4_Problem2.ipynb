{
 "cells": [
  {
   "cell_type": "code",
   "execution_count": 1,
   "id": "258825a0",
   "metadata": {},
   "outputs": [],
   "source": [
    "import pandas as pd\n",
    "import numpy as np"
   ]
  },
  {
   "cell_type": "code",
   "execution_count": 2,
   "id": "70d54f61",
   "metadata": {},
   "outputs": [],
   "source": [
    "call_strikes = np.array([1175,1200,1225,1250,1275,1300,1325,1350,1375,1400,1425,1450,1475])\n",
    "call_mkt_px = np.array([67.1,46.5,41,28.5,22.8,15.8,9.5,6.8,4.1,2.5,1.4,0.9,0.5])\n",
    "call_bid_px = np.array([68,52.8,40.3,29.6,21.3,15,10,6.3,4,2.5,1.4,0.8,0.35])\n",
    "call_ask_px = np.array([70,54.8,42.3,31.6,23.3,16.2,11,7.3,4.7,3.2,1.85,1.25,0.8])\n",
    "\n",
    "call_df = pd.DataFrame({\"strikes\":call_strikes,\n",
    "                       \"mkt_px\":call_mkt_px,\n",
    "                       \"bid\":call_bid_px,\n",
    "                       \"ask\":call_ask_px})\n",
    "\n",
    "call_df['mid'] = (call_df['ask'] + call_df['bid'])/2\n",
    "\n",
    "call_df[\"relative_err\"] = abs(call_df['mkt_px'] - call_df['mid']) / call_df['mid']\n",
    "avg_abs_err_call = call_df['relative_err'].sum() / call_df.shape[0]\n",
    "\n",
    "\n",
    "put_strikes = np.array([800,900,950,995,1025,1050,1060,1075,1100,1150,1175,1200])\n",
    "put_mkt_px = np.array([1.65,4.3,5.4,10.1,13,13.6,16.5,22.5,26,39,44,53])\n",
    "put_bid_px = np.array([1.2,3.4,5.3,8.5,11.1,14,15.7,18,22.7,35.3,44.1,53.9])\n",
    "put_ask_px = np.array([1.65,4.1,6.3,9.5,12.6,15.5,17.2,19.5,24.7,37.3,46.1,55.9])\n",
    "\n",
    "put_df = pd.DataFrame({\"strikes\":put_strikes,\n",
    "                       \"mkt_px\":put_mkt_px,\n",
    "                       \"bid\":put_bid_px,\n",
    "                       \"ask\":put_ask_px})\n",
    "\n",
    "put_df['mid'] = (put_df['ask'] + put_df['bid'])/2\n",
    "\n",
    "put_df[\"relative_err\"] = abs(put_df['mkt_px'] - put_df['mid']) / put_df['mid']\n",
    "avg_abs_err_put = put_df['relative_err'].sum() / put_df.shape[0]"
   ]
  },
  {
   "cell_type": "markdown",
   "id": "19b858c9",
   "metadata": {},
   "source": [
    "### Relative Error"
   ]
  },
  {
   "cell_type": "code",
   "execution_count": 3,
   "id": "47bbdb90",
   "metadata": {},
   "outputs": [
    {
     "data": {
      "text/html": [
       "<div>\n",
       "<style scoped>\n",
       "    .dataframe tbody tr th:only-of-type {\n",
       "        vertical-align: middle;\n",
       "    }\n",
       "\n",
       "    .dataframe tbody tr th {\n",
       "        vertical-align: top;\n",
       "    }\n",
       "\n",
       "    .dataframe thead th {\n",
       "        text-align: right;\n",
       "    }\n",
       "</style>\n",
       "<table border=\"1\" class=\"dataframe\">\n",
       "  <thead>\n",
       "    <tr style=\"text-align: right;\">\n",
       "      <th></th>\n",
       "      <th>strikes</th>\n",
       "      <th>mkt_px</th>\n",
       "      <th>bid</th>\n",
       "      <th>ask</th>\n",
       "      <th>mid</th>\n",
       "      <th>relative_err</th>\n",
       "    </tr>\n",
       "  </thead>\n",
       "  <tbody>\n",
       "    <tr>\n",
       "      <th>0</th>\n",
       "      <td>1175</td>\n",
       "      <td>67.1</td>\n",
       "      <td>68.00</td>\n",
       "      <td>70.00</td>\n",
       "      <td>69.000</td>\n",
       "      <td>0.027536</td>\n",
       "    </tr>\n",
       "    <tr>\n",
       "      <th>1</th>\n",
       "      <td>1200</td>\n",
       "      <td>46.5</td>\n",
       "      <td>52.80</td>\n",
       "      <td>54.80</td>\n",
       "      <td>53.800</td>\n",
       "      <td>0.135688</td>\n",
       "    </tr>\n",
       "    <tr>\n",
       "      <th>2</th>\n",
       "      <td>1225</td>\n",
       "      <td>41.0</td>\n",
       "      <td>40.30</td>\n",
       "      <td>42.30</td>\n",
       "      <td>41.300</td>\n",
       "      <td>0.007264</td>\n",
       "    </tr>\n",
       "    <tr>\n",
       "      <th>3</th>\n",
       "      <td>1250</td>\n",
       "      <td>28.5</td>\n",
       "      <td>29.60</td>\n",
       "      <td>31.60</td>\n",
       "      <td>30.600</td>\n",
       "      <td>0.068627</td>\n",
       "    </tr>\n",
       "    <tr>\n",
       "      <th>4</th>\n",
       "      <td>1275</td>\n",
       "      <td>22.8</td>\n",
       "      <td>21.30</td>\n",
       "      <td>23.30</td>\n",
       "      <td>22.300</td>\n",
       "      <td>0.022422</td>\n",
       "    </tr>\n",
       "    <tr>\n",
       "      <th>5</th>\n",
       "      <td>1300</td>\n",
       "      <td>15.8</td>\n",
       "      <td>15.00</td>\n",
       "      <td>16.20</td>\n",
       "      <td>15.600</td>\n",
       "      <td>0.012821</td>\n",
       "    </tr>\n",
       "    <tr>\n",
       "      <th>6</th>\n",
       "      <td>1325</td>\n",
       "      <td>9.5</td>\n",
       "      <td>10.00</td>\n",
       "      <td>11.00</td>\n",
       "      <td>10.500</td>\n",
       "      <td>0.095238</td>\n",
       "    </tr>\n",
       "    <tr>\n",
       "      <th>7</th>\n",
       "      <td>1350</td>\n",
       "      <td>6.8</td>\n",
       "      <td>6.30</td>\n",
       "      <td>7.30</td>\n",
       "      <td>6.800</td>\n",
       "      <td>0.000000</td>\n",
       "    </tr>\n",
       "    <tr>\n",
       "      <th>8</th>\n",
       "      <td>1375</td>\n",
       "      <td>4.1</td>\n",
       "      <td>4.00</td>\n",
       "      <td>4.70</td>\n",
       "      <td>4.350</td>\n",
       "      <td>0.057471</td>\n",
       "    </tr>\n",
       "    <tr>\n",
       "      <th>9</th>\n",
       "      <td>1400</td>\n",
       "      <td>2.5</td>\n",
       "      <td>2.50</td>\n",
       "      <td>3.20</td>\n",
       "      <td>2.850</td>\n",
       "      <td>0.122807</td>\n",
       "    </tr>\n",
       "    <tr>\n",
       "      <th>10</th>\n",
       "      <td>1425</td>\n",
       "      <td>1.4</td>\n",
       "      <td>1.40</td>\n",
       "      <td>1.85</td>\n",
       "      <td>1.625</td>\n",
       "      <td>0.138462</td>\n",
       "    </tr>\n",
       "    <tr>\n",
       "      <th>11</th>\n",
       "      <td>1450</td>\n",
       "      <td>0.9</td>\n",
       "      <td>0.80</td>\n",
       "      <td>1.25</td>\n",
       "      <td>1.025</td>\n",
       "      <td>0.121951</td>\n",
       "    </tr>\n",
       "    <tr>\n",
       "      <th>12</th>\n",
       "      <td>1475</td>\n",
       "      <td>0.5</td>\n",
       "      <td>0.35</td>\n",
       "      <td>0.80</td>\n",
       "      <td>0.575</td>\n",
       "      <td>0.130435</td>\n",
       "    </tr>\n",
       "  </tbody>\n",
       "</table>\n",
       "</div>"
      ],
      "text/plain": [
       "    strikes  mkt_px    bid    ask     mid  relative_err\n",
       "0      1175    67.1  68.00  70.00  69.000      0.027536\n",
       "1      1200    46.5  52.80  54.80  53.800      0.135688\n",
       "2      1225    41.0  40.30  42.30  41.300      0.007264\n",
       "3      1250    28.5  29.60  31.60  30.600      0.068627\n",
       "4      1275    22.8  21.30  23.30  22.300      0.022422\n",
       "5      1300    15.8  15.00  16.20  15.600      0.012821\n",
       "6      1325     9.5  10.00  11.00  10.500      0.095238\n",
       "7      1350     6.8   6.30   7.30   6.800      0.000000\n",
       "8      1375     4.1   4.00   4.70   4.350      0.057471\n",
       "9      1400     2.5   2.50   3.20   2.850      0.122807\n",
       "10     1425     1.4   1.40   1.85   1.625      0.138462\n",
       "11     1450     0.9   0.80   1.25   1.025      0.121951\n",
       "12     1475     0.5   0.35   0.80   0.575      0.130435"
      ]
     },
     "execution_count": 3,
     "metadata": {},
     "output_type": "execute_result"
    }
   ],
   "source": [
    "call_df"
   ]
  },
  {
   "cell_type": "code",
   "execution_count": 4,
   "id": "7d940ffb",
   "metadata": {},
   "outputs": [
    {
     "data": {
      "text/html": [
       "<div>\n",
       "<style scoped>\n",
       "    .dataframe tbody tr th:only-of-type {\n",
       "        vertical-align: middle;\n",
       "    }\n",
       "\n",
       "    .dataframe tbody tr th {\n",
       "        vertical-align: top;\n",
       "    }\n",
       "\n",
       "    .dataframe thead th {\n",
       "        text-align: right;\n",
       "    }\n",
       "</style>\n",
       "<table border=\"1\" class=\"dataframe\">\n",
       "  <thead>\n",
       "    <tr style=\"text-align: right;\">\n",
       "      <th></th>\n",
       "      <th>strikes</th>\n",
       "      <th>mkt_px</th>\n",
       "      <th>bid</th>\n",
       "      <th>ask</th>\n",
       "      <th>mid</th>\n",
       "      <th>relative_err</th>\n",
       "    </tr>\n",
       "  </thead>\n",
       "  <tbody>\n",
       "    <tr>\n",
       "      <th>0</th>\n",
       "      <td>800</td>\n",
       "      <td>1.65</td>\n",
       "      <td>1.2</td>\n",
       "      <td>1.65</td>\n",
       "      <td>1.425</td>\n",
       "      <td>0.157895</td>\n",
       "    </tr>\n",
       "    <tr>\n",
       "      <th>1</th>\n",
       "      <td>900</td>\n",
       "      <td>4.30</td>\n",
       "      <td>3.4</td>\n",
       "      <td>4.10</td>\n",
       "      <td>3.750</td>\n",
       "      <td>0.146667</td>\n",
       "    </tr>\n",
       "    <tr>\n",
       "      <th>2</th>\n",
       "      <td>950</td>\n",
       "      <td>5.40</td>\n",
       "      <td>5.3</td>\n",
       "      <td>6.30</td>\n",
       "      <td>5.800</td>\n",
       "      <td>0.068966</td>\n",
       "    </tr>\n",
       "    <tr>\n",
       "      <th>3</th>\n",
       "      <td>995</td>\n",
       "      <td>10.10</td>\n",
       "      <td>8.5</td>\n",
       "      <td>9.50</td>\n",
       "      <td>9.000</td>\n",
       "      <td>0.122222</td>\n",
       "    </tr>\n",
       "    <tr>\n",
       "      <th>4</th>\n",
       "      <td>1025</td>\n",
       "      <td>13.00</td>\n",
       "      <td>11.1</td>\n",
       "      <td>12.60</td>\n",
       "      <td>11.850</td>\n",
       "      <td>0.097046</td>\n",
       "    </tr>\n",
       "    <tr>\n",
       "      <th>5</th>\n",
       "      <td>1050</td>\n",
       "      <td>13.60</td>\n",
       "      <td>14.0</td>\n",
       "      <td>15.50</td>\n",
       "      <td>14.750</td>\n",
       "      <td>0.077966</td>\n",
       "    </tr>\n",
       "    <tr>\n",
       "      <th>6</th>\n",
       "      <td>1060</td>\n",
       "      <td>16.50</td>\n",
       "      <td>15.7</td>\n",
       "      <td>17.20</td>\n",
       "      <td>16.450</td>\n",
       "      <td>0.003040</td>\n",
       "    </tr>\n",
       "    <tr>\n",
       "      <th>7</th>\n",
       "      <td>1075</td>\n",
       "      <td>22.50</td>\n",
       "      <td>18.0</td>\n",
       "      <td>19.50</td>\n",
       "      <td>18.750</td>\n",
       "      <td>0.200000</td>\n",
       "    </tr>\n",
       "    <tr>\n",
       "      <th>8</th>\n",
       "      <td>1100</td>\n",
       "      <td>26.00</td>\n",
       "      <td>22.7</td>\n",
       "      <td>24.70</td>\n",
       "      <td>23.700</td>\n",
       "      <td>0.097046</td>\n",
       "    </tr>\n",
       "    <tr>\n",
       "      <th>9</th>\n",
       "      <td>1150</td>\n",
       "      <td>39.00</td>\n",
       "      <td>35.3</td>\n",
       "      <td>37.30</td>\n",
       "      <td>36.300</td>\n",
       "      <td>0.074380</td>\n",
       "    </tr>\n",
       "    <tr>\n",
       "      <th>10</th>\n",
       "      <td>1175</td>\n",
       "      <td>44.00</td>\n",
       "      <td>44.1</td>\n",
       "      <td>46.10</td>\n",
       "      <td>45.100</td>\n",
       "      <td>0.024390</td>\n",
       "    </tr>\n",
       "    <tr>\n",
       "      <th>11</th>\n",
       "      <td>1200</td>\n",
       "      <td>53.00</td>\n",
       "      <td>53.9</td>\n",
       "      <td>55.90</td>\n",
       "      <td>54.900</td>\n",
       "      <td>0.034608</td>\n",
       "    </tr>\n",
       "  </tbody>\n",
       "</table>\n",
       "</div>"
      ],
      "text/plain": [
       "    strikes  mkt_px   bid    ask     mid  relative_err\n",
       "0       800    1.65   1.2   1.65   1.425      0.157895\n",
       "1       900    4.30   3.4   4.10   3.750      0.146667\n",
       "2       950    5.40   5.3   6.30   5.800      0.068966\n",
       "3       995   10.10   8.5   9.50   9.000      0.122222\n",
       "4      1025   13.00  11.1  12.60  11.850      0.097046\n",
       "5      1050   13.60  14.0  15.50  14.750      0.077966\n",
       "6      1060   16.50  15.7  17.20  16.450      0.003040\n",
       "7      1075   22.50  18.0  19.50  18.750      0.200000\n",
       "8      1100   26.00  22.7  24.70  23.700      0.097046\n",
       "9      1150   39.00  35.3  37.30  36.300      0.074380\n",
       "10     1175   44.00  44.1  46.10  45.100      0.024390\n",
       "11     1200   53.00  53.9  55.90  54.900      0.034608"
      ]
     },
     "execution_count": 4,
     "metadata": {},
     "output_type": "execute_result"
    }
   ],
   "source": [
    "put_df"
   ]
  },
  {
   "cell_type": "markdown",
   "id": "5082a673",
   "metadata": {},
   "source": [
    "### Average Absolute Error"
   ]
  },
  {
   "cell_type": "code",
   "execution_count": 5,
   "id": "b9ef061b",
   "metadata": {},
   "outputs": [
    {
     "data": {
      "text/plain": [
       "0.0723631763800775"
      ]
     },
     "execution_count": 5,
     "metadata": {},
     "output_type": "execute_result"
    }
   ],
   "source": [
    "avg_abs_err_call"
   ]
  },
  {
   "cell_type": "code",
   "execution_count": 6,
   "id": "8de02f93",
   "metadata": {},
   "outputs": [
    {
     "data": {
      "text/plain": [
       "0.09201886445097407"
      ]
     },
     "execution_count": 6,
     "metadata": {},
     "output_type": "execute_result"
    }
   ],
   "source": [
    "avg_abs_err_put"
   ]
  },
  {
   "cell_type": "markdown",
   "id": "e6317e44",
   "metadata": {},
   "source": [
    "### Payoff Matrix"
   ]
  },
  {
   "cell_type": "code",
   "execution_count": 7,
   "id": "6dcd9e47",
   "metadata": {},
   "outputs": [],
   "source": [
    "securities_calls = np.array([0, 0, 0, 0, 1200, 1275, 1350, 1425])\n",
    "securities_puts = np.array([800, 950, 1050, 1200, 0, 0, 0, 0])\n",
    "\n",
    "states = np.array([650,875,1000,1125,1237.5,1312.5,1387.5,1500])"
   ]
  },
  {
   "cell_type": "code",
   "execution_count": 8,
   "id": "a7f942c9",
   "metadata": {},
   "outputs": [],
   "source": [
    "def payoff(strike: float, stock: float, o_type: str):\n",
    "    \n",
    "    if o_type == \"Call\":\n",
    "        if strike <= 0:\n",
    "            return 0\n",
    "        else:\n",
    "            return max((stock - strike), 0)\n",
    "    elif o_type == \"Put\":\n",
    "        return max(strike - stock, 0)\n",
    "    else:\n",
    "        print(\"Enter either o_type = 'Call' or 'Put'\")"
   ]
  },
  {
   "cell_type": "code",
   "execution_count": 9,
   "id": "5b4a8856",
   "metadata": {},
   "outputs": [],
   "source": [
    "put_lst=[]\n",
    "\n",
    "for k in range(0,8):\n",
    "    put_lst.append([payoff(securities_puts[i], \n",
    "           states[k], \n",
    "           \"Put\") for i in range(len(securities_puts))])"
   ]
  },
  {
   "cell_type": "code",
   "execution_count": 10,
   "id": "4e081c78",
   "metadata": {},
   "outputs": [],
   "source": [
    "call_lst=[]\n",
    "\n",
    "for k in range(0,8):\n",
    "    call_lst.append([payoff(securities_calls[i], \n",
    "           states[k], \n",
    "           \"Call\") for i in range(len(securities_calls))])"
   ]
  },
  {
   "cell_type": "code",
   "execution_count": 11,
   "id": "2baa68b1",
   "metadata": {},
   "outputs": [
    {
     "data": {
      "text/plain": [
       "array([[150.,   0.,   0.,   0.,   0.,   0.,   0.,   0.],\n",
       "       [300.,  75.,   0.,   0.,   0.,   0.,   0.,   0.],\n",
       "       [400., 175.,  50.,   0.,   0.,   0.,   0.,   0.],\n",
       "       [550., 325., 200.,  75.,   0.,   0.,   0.,   0.],\n",
       "       [  0.,   0.,   0.,   0.,   0.,   0.,   0.,   0.],\n",
       "       [  0.,   0.,   0.,   0.,   0.,   0.,   0.,   0.],\n",
       "       [  0.,   0.,   0.,   0.,   0.,   0.,   0.,   0.],\n",
       "       [  0.,   0.,   0.,   0.,   0.,   0.,   0.,   0.]])"
      ]
     },
     "execution_count": 11,
     "metadata": {},
     "output_type": "execute_result"
    }
   ],
   "source": [
    "np.array(put_lst).T"
   ]
  },
  {
   "cell_type": "code",
   "execution_count": 12,
   "id": "6dee2ff3",
   "metadata": {},
   "outputs": [],
   "source": [
    "M = np.array(put_lst).T + np.array(call_lst).T"
   ]
  },
  {
   "cell_type": "markdown",
   "id": "5c198084",
   "metadata": {},
   "source": [
    "#### Payoff Matrix"
   ]
  },
  {
   "cell_type": "code",
   "execution_count": 13,
   "id": "05bf1658",
   "metadata": {},
   "outputs": [
    {
     "data": {
      "text/plain": [
       "array([[150. ,   0. ,   0. ,   0. ,   0. ,   0. ,   0. ,   0. ],\n",
       "       [300. ,  75. ,   0. ,   0. ,   0. ,   0. ,   0. ,   0. ],\n",
       "       [400. , 175. ,  50. ,   0. ,   0. ,   0. ,   0. ,   0. ],\n",
       "       [550. , 325. , 200. ,  75. ,   0. ,   0. ,   0. ,   0. ],\n",
       "       [  0. ,   0. ,   0. ,   0. ,  37.5, 112.5, 187.5, 300. ],\n",
       "       [  0. ,   0. ,   0. ,   0. ,   0. ,  37.5, 112.5, 225. ],\n",
       "       [  0. ,   0. ,   0. ,   0. ,   0. ,   0. ,  37.5, 150. ],\n",
       "       [  0. ,   0. ,   0. ,   0. ,   0. ,   0. ,   0. ,  75. ]])"
      ]
     },
     "execution_count": 13,
     "metadata": {},
     "output_type": "execute_result"
    }
   ],
   "source": [
    "M"
   ]
  },
  {
   "cell_type": "code",
   "execution_count": 14,
   "id": "803f3b9f",
   "metadata": {},
   "outputs": [],
   "source": [
    "st0_calls = call_df[call_df['strikes'].isin([1200, 1275, 1350, 1425])]['mid'].values\n",
    "st0_puts = put_df[put_df['strikes'].isin([1200, 1050, 950, 800])]['mid'].values\n",
    "\n",
    "St0 = np.concatenate([st0_puts, st0_calls])"
   ]
  },
  {
   "cell_type": "code",
   "execution_count": 15,
   "id": "99edb048",
   "metadata": {},
   "outputs": [],
   "source": [
    "solution = np.linalg.solve(M, St0)"
   ]
  },
  {
   "cell_type": "code",
   "execution_count": 16,
   "id": "2bf33990",
   "metadata": {},
   "outputs": [
    {
     "name": "stdout",
     "output_type": "stream",
     "text": [
      "[0.0095     0.03933333 0.08133333 0.275      0.246      0.18066667\n",
      " 0.09466667 0.02166667]\n"
     ]
    }
   ],
   "source": [
    "print(solution)"
   ]
  },
  {
   "cell_type": "markdown",
   "id": "5b149efa",
   "metadata": {},
   "source": [
    "### Answers to Question #2"
   ]
  },
  {
   "cell_type": "markdown",
   "id": "160f4fc1",
   "metadata": {},
   "source": [
    "**(1)**"
   ]
  },
  {
   "cell_type": "markdown",
   "id": "81043b58",
   "metadata": {},
   "source": [
    "Print the the Payoff matrix and the St0 (security prices) is shown below. "
   ]
  },
  {
   "cell_type": "code",
   "execution_count": 17,
   "id": "16c2ad46",
   "metadata": {},
   "outputs": [
    {
     "name": "stdout",
     "output_type": "stream",
     "text": [
      "The Pay of Matrix M is \n",
      "\n",
      "[[150.    0.    0.    0.    0.    0.    0.    0. ]\n",
      " [300.   75.    0.    0.    0.    0.    0.    0. ]\n",
      " [400.  175.   50.    0.    0.    0.    0.    0. ]\n",
      " [550.  325.  200.   75.    0.    0.    0.    0. ]\n",
      " [  0.    0.    0.    0.   37.5 112.5 187.5 300. ]\n",
      " [  0.    0.    0.    0.    0.   37.5 112.5 225. ]\n",
      " [  0.    0.    0.    0.    0.    0.   37.5 150. ]\n",
      " [  0.    0.    0.    0.    0.    0.    0.   75. ]]\n",
      "\n",
      "\n",
      "\n",
      "\n",
      "The securities prices St0 is \n",
      "\n",
      "[ 1.425  5.8   14.75  54.9   53.8   22.3    6.8    1.625]\n"
     ]
    }
   ],
   "source": [
    "print(\"The Pay of Matrix M is \\n\")\n",
    "print(M);\n",
    "print(\"\\n\\n\\n\")\n",
    "print(\"The securities prices St0 is \\n\")\n",
    "print(St0)"
   ]
  },
  {
   "cell_type": "markdown",
   "id": "08ac69fe",
   "metadata": {},
   "source": [
    "**(2)**"
   ]
  },
  {
   "cell_type": "code",
   "execution_count": 18,
   "id": "0fa56905",
   "metadata": {},
   "outputs": [
    {
     "name": "stdout",
     "output_type": "stream",
     "text": [
      "These securities are non-redundant if their payoff vectors are linearly independenti.e. their row rank is 8. The matrix M is non-singular since the determinant of matrix M is non-zeroThe row rank of Matrix M is 8\n",
      "\n",
      "Therefore we can conclude, that the securities are non-redundant.\n"
     ]
    }
   ],
   "source": [
    "matrix_rank = np.linalg.matrix_rank(M)\n",
    "\n",
    "print(f\"These securities are non-redundant if their payoff vectors are linearly independent\\\n",
    "i.e. their row rank is 8. The matrix M is non-singular since the determinant of matrix M is non-zero\\\n",
    "The row rank of Matrix M is {matrix_rank}\\n\")\n",
    "\n",
    "print(\"Therefore we can conclude, that the securities are non-redundant.\")"
   ]
  },
  {
   "cell_type": "markdown",
   "id": "60105754",
   "metadata": {},
   "source": [
    "**(3)**"
   ]
  },
  {
   "cell_type": "markdown",
   "id": "5409c2f0",
   "metadata": {},
   "source": [
    "Since the one-period market model has the same number of states as the number of securities is complete. if and only if the payoff matrix of the market model is nonsingular. As mentioned above this market model has a determinant that is non-zero, we can conclude that this martix M is nonsingular."
   ]
  },
  {
   "cell_type": "markdown",
   "id": "e4aa6e0c",
   "metadata": {},
   "source": [
    "**(4)**"
   ]
  },
  {
   "cell_type": "code",
   "execution_count": 19,
   "id": "7342e6ac",
   "metadata": {},
   "outputs": [
    {
     "name": "stdout",
     "output_type": "stream",
     "text": [
      "The enteries of the Q vector are [0.0095     0.03933333 0.08133333 0.275      0.246      0.18066667\n",
      " 0.09466667 0.02166667].\n",
      "\n",
      "Since all the enteries of Q (i.e. the state prices) are, we conclude that theone period market model is arbitrage-free.\n"
     ]
    }
   ],
   "source": [
    "print(f\"The enteries of the Q vector are {solution}.\\n\")\n",
    "print(\"Since all the enteries of Q (i.e. the state prices) are, we conclude that the\\\n",
    "one period market model is arbitrage-free.\")"
   ]
  },
  {
   "cell_type": "markdown",
   "id": "8167e07c",
   "metadata": {},
   "source": [
    "**(5)**"
   ]
  },
  {
   "cell_type": "markdown",
   "id": "a4528d2d",
   "metadata": {},
   "source": [
    "*TODO*\n",
    "\n",
    "Is the question asking about the Vmid? and the relative approximation error as shown above. What comments should we have for this question?"
   ]
  },
  {
   "cell_type": "code",
   "execution_count": null,
   "id": "85eb5001",
   "metadata": {},
   "outputs": [],
   "source": []
  }
 ],
 "metadata": {
  "kernelspec": {
   "display_name": "Python 3 (ipykernel)",
   "language": "python",
   "name": "python3"
  },
  "language_info": {
   "codemirror_mode": {
    "name": "ipython",
    "version": 3
   },
   "file_extension": ".py",
   "mimetype": "text/x-python",
   "name": "python",
   "nbconvert_exporter": "python",
   "pygments_lexer": "ipython3",
   "version": "3.9.7"
  }
 },
 "nbformat": 4,
 "nbformat_minor": 5
}
