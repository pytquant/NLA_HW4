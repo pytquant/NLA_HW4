{
 "cells": [
  {
   "cell_type": "code",
   "execution_count": 1,
   "id": "396ec4c3",
   "metadata": {},
   "outputs": [],
   "source": [
    "import numpy as np\n",
    "from scipy.linalg import lu, lu_factor, lu_solve\n",
    "import pandas as pd"
   ]
  },
  {
   "cell_type": "markdown",
   "id": "db65a443",
   "metadata": {},
   "source": [
    "### Problem #1"
   ]
  },
  {
   "cell_type": "markdown",
   "id": "5d270651",
   "metadata": {},
   "source": [
    "P1175; P1200; P1250; P1350; C1350; C1375; C1450; C1550; C1600"
   ]
  },
  {
   "cell_type": "code",
   "execution_count": 2,
   "id": "6ac4e6ab",
   "metadata": {},
   "outputs": [],
   "source": [
    "S_t0 = np.array([46.60, 51.55, 63.30, 95.30, 99.55, 84.90, 47.25, 15.80, 7.9])\n",
    "securities_puts = np.array([1175, 1200, 1250, 1350, 0, 0, 0, 0, 0])\n",
    "securities_calls = np.array([0, 0, 0, 0, 1350, 1375, 1450, 1550, 1600])                 "
   ]
  },
  {
   "cell_type": "code",
   "execution_count": 3,
   "id": "25a2e381",
   "metadata": {},
   "outputs": [],
   "source": [
    "first_state_choice = [800,950,1100]\n",
    "last_state_choice = [1650,1700,1800]"
   ]
  },
  {
   "cell_type": "code",
   "execution_count": 4,
   "id": "e82036e7",
   "metadata": {},
   "outputs": [],
   "source": [
    "base_states = [1187.5, 1225, 1300, 1362.5, 1412.5, 1500, 1575]"
   ]
  },
  {
   "cell_type": "code",
   "execution_count": 5,
   "id": "76f51c98",
   "metadata": {},
   "outputs": [],
   "source": [
    "market_models = [[i] + base_states + [j] for i in first_state_choice for j in last_state_choice]\n",
    "market_models = np.array(market_models).T"
   ]
  },
  {
   "cell_type": "code",
   "execution_count": 6,
   "id": "c7a37d27",
   "metadata": {},
   "outputs": [],
   "source": [
    "def payoff(strike: float, stock: float, o_type: str):\n",
    "    \n",
    "    if o_type == \"Call\":\n",
    "        if strike <= 0:\n",
    "            return 0\n",
    "        else:\n",
    "            return max((stock - strike), 0)\n",
    "    elif o_type == \"Put\":\n",
    "        return max(strike - stock, 0)\n",
    "    else:\n",
    "        print(\"Enter either o_type = 'Call' or 'Put'\")"
   ]
  },
  {
   "cell_type": "markdown",
   "id": "c5dab0df",
   "metadata": {},
   "source": [
    "Example Code"
   ]
  },
  {
   "cell_type": "markdown",
   "id": "0818f6a9",
   "metadata": {},
   "source": [
    "```python\n",
    "put_lst=[]\n",
    "for k in range(0,9):\n",
    "    put_lst.append([payoff(securities_puts[i], \n",
    "       market_models[:,0][k], \n",
    "       \"Put\") for i in range(len(securities_puts))])\n"
   ]
  },
  {
   "cell_type": "markdown",
   "id": "cd9f02ea",
   "metadata": {},
   "source": [
    "```python\n",
    "call_lst=[]\n",
    "\n",
    "for k in range(0,9):\n",
    "    call_lst.append([payoff(securities_calls[i], \n",
    "       market_models[:,0][k], \n",
    "       \"Call\") for i in range(len(securities_puts))]) \n",
    "    "
   ]
  },
  {
   "cell_type": "markdown",
   "id": "f00f5275",
   "metadata": {},
   "source": [
    "```python\n",
    "M1 =np.array(put_lst).T + np.array(call_lst).T\n",
    "print(M1)\n",
    "\n"
   ]
  },
  {
   "cell_type": "markdown",
   "id": "221e83eb",
   "metadata": {},
   "source": [
    "### Get all Matrix"
   ]
  },
  {
   "cell_type": "code",
   "execution_count": 7,
   "id": "96dea9b4",
   "metadata": {},
   "outputs": [],
   "source": [
    "def get_matrix(n):\n",
    "    \n",
    "    put_lst=[]\n",
    "\n",
    "    for k in range(0,9):\n",
    "        put_lst.append([payoff(securities_puts[i], \n",
    "           market_models[:,n][k], \n",
    "           \"Put\") for i in range(len(securities_puts))])  \n",
    "        \n",
    "    call_lst=[]\n",
    "\n",
    "    for k in range(0,9):\n",
    "        call_lst.append([payoff(securities_calls[i], \n",
    "           market_models[:,n][k], \n",
    "           \"Call\") for i in range(len(securities_puts))]) \n",
    "        \n",
    "    M =np.array(put_lst).T + np.array(call_lst).T\n",
    "    return M"
   ]
  },
  {
   "cell_type": "code",
   "execution_count": 8,
   "id": "3bf3f03e",
   "metadata": {},
   "outputs": [],
   "source": [
    "M0 = get_matrix(0)\n",
    "M1 = get_matrix(1)\n",
    "M2 = get_matrix(2)\n",
    "M3 = get_matrix(3)\n",
    "M4 = get_matrix(4)\n",
    "M5 = get_matrix(5)\n",
    "M6 = get_matrix(6)\n",
    "M7 = get_matrix(7)\n",
    "M8 = get_matrix(8)"
   ]
  },
  {
   "cell_type": "markdown",
   "id": "58b8af7e",
   "metadata": {},
   "source": [
    "Text Book problem (Page 100-103)"
   ]
  },
  {
   "cell_type": "code",
   "execution_count": 9,
   "id": "fce5c074",
   "metadata": {},
   "outputs": [
    {
     "name": "stdout",
     "output_type": "stream",
     "text": [
      "[0.25775 0.0075  0.2465 ]\n",
      "[0.17  0.155 0.158 0.079]\n"
     ]
    }
   ],
   "source": [
    "A = np.array([[200,0,0],\n",
    "        [300,50,0,],\n",
    "         [400,150,50]])\n",
    "\n",
    "B = np.array([[25,100,175,300],\n",
    "             [0,50,125,250],\n",
    "             [0,0,25,150],\n",
    "             [0,0,0,100]])\n",
    "\n",
    "a1 = np.array([51.55,77.70,116.55])\n",
    "b1 = np.array([71.10, 47.25, 15.80, 7.90])\n",
    "\n",
    "print(np.linalg.solve(A,a1))\n",
    "print(np.linalg.solve(B,b1))"
   ]
  },
  {
   "cell_type": "code",
   "execution_count": null,
   "id": "df6f86de",
   "metadata": {},
   "outputs": [],
   "source": []
  },
  {
   "cell_type": "code",
   "execution_count": 10,
   "id": "2f2bcdd0",
   "metadata": {},
   "outputs": [],
   "source": [
    "def get_Q(M, b_array, n):\n",
    "    \n",
    "    \n",
    "    A = M[:n, :n]\n",
    "    b = b_array[:n]\n",
    "    \n",
    "    q0 = np.linalg.solve(A,b)\n",
    "    \n",
    "    A1 = M[n:, n:]\n",
    "    b1 = b_array[n:]\n",
    "    \n",
    "    q1 = np.linalg.solve(A1,b1)\n",
    "    \n",
    "    q = np.concatenate((q0,q1))\n",
    "    \n",
    "    return q, A, A1, M"
   ]
  },
  {
   "cell_type": "markdown",
   "id": "8492a2bd",
   "metadata": {},
   "source": [
    "### Test get_Q func on the Text Book problem (Page 100-103)\n",
    "\n",
    "Testing on the TB Example"
   ]
  },
  {
   "cell_type": "code",
   "execution_count": 11,
   "id": "6b4c3e63",
   "metadata": {},
   "outputs": [
    {
     "name": "stdout",
     "output_type": "stream",
     "text": [
      "[0.25775 0.0075  0.2465  0.17    0.155   0.158   0.079  ]\n"
     ]
    }
   ],
   "source": [
    "M_tb = np.array([[200,0,0,0,0,0,0],\n",
    "                [300,50,0,0,0,0,0],\n",
    "                [400,150,50,0,0,0,0],\n",
    "                [0,0,0,25,100,175,300],\n",
    "                [0,0,0,0,50,125,250],\n",
    "                [0,0,0,0,0,25,150],\n",
    "                [0,0,0,0,0,0,100]])\n",
    "\n",
    "b_tb = np.array([51.55,77.70, 116.55,71.10,47.25,15.80,7.90])\n",
    "q_tb = get_Q(M_tb, b_tb, 3)[0]\n",
    "print(q_tb)"
   ]
  },
  {
   "cell_type": "code",
   "execution_count": 12,
   "id": "55b38311",
   "metadata": {},
   "outputs": [],
   "source": [
    "all_Q = [get_Q(i, S_t0, 4)[0] for i in [M0, M1, M2, M3, M4, M5, M6, M7, M8]]"
   ]
  },
  {
   "cell_type": "code",
   "execution_count": 13,
   "id": "b3400a2e",
   "metadata": {},
   "outputs": [
    {
     "data": {
      "text/plain": [
       "array([[375. ,   0. ,   0. ,   0. ,   0. ,   0. ,   0. ,   0. ,   0. ],\n",
       "       [400. ,  12.5,   0. ,   0. ,   0. ,   0. ,   0. ,   0. ,   0. ],\n",
       "       [450. ,  62.5,  25. ,   0. ,   0. ,   0. ,   0. ,   0. ,   0. ],\n",
       "       [550. , 162.5, 125. ,  50. ,   0. ,   0. ,   0. ,   0. ,   0. ],\n",
       "       [  0. ,   0. ,   0. ,   0. ,  12.5,  62.5, 150. , 225. , 300. ],\n",
       "       [  0. ,   0. ,   0. ,   0. ,   0. ,  37.5, 125. , 200. , 275. ],\n",
       "       [  0. ,   0. ,   0. ,   0. ,   0. ,   0. ,  50. , 125. , 200. ],\n",
       "       [  0. ,   0. ,   0. ,   0. ,   0. ,   0. ,   0. ,  25. , 100. ],\n",
       "       [  0. ,   0. ,   0. ,   0. ,   0. ,   0. ,   0. ,   0. ,  50. ]])"
      ]
     },
     "execution_count": 13,
     "metadata": {},
     "output_type": "execute_result"
    }
   ],
   "source": [
    "M0"
   ]
  },
  {
   "cell_type": "code",
   "execution_count": 14,
   "id": "8209a659",
   "metadata": {},
   "outputs": [
    {
     "data": {
      "text/plain": [
       "array([[375. ,   0. ,   0. ,   0. ,   0. ,   0. ,   0. ,   0. ,   0. ],\n",
       "       [400. ,  12.5,   0. ,   0. ,   0. ,   0. ,   0. ,   0. ,   0. ],\n",
       "       [450. ,  62.5,  25. ,   0. ,   0. ,   0. ,   0. ,   0. ,   0. ],\n",
       "       [550. , 162.5, 125. ,  50. ,   0. ,   0. ,   0. ,   0. ,   0. ],\n",
       "       [  0. ,   0. ,   0. ,   0. ,  12.5,  62.5, 150. , 225. , 350. ],\n",
       "       [  0. ,   0. ,   0. ,   0. ,   0. ,  37.5, 125. , 200. , 325. ],\n",
       "       [  0. ,   0. ,   0. ,   0. ,   0. ,   0. ,  50. , 125. , 250. ],\n",
       "       [  0. ,   0. ,   0. ,   0. ,   0. ,   0. ,   0. ,  25. , 150. ],\n",
       "       [  0. ,   0. ,   0. ,   0. ,   0. ,   0. ,   0. ,   0. , 100. ]])"
      ]
     },
     "execution_count": 14,
     "metadata": {},
     "output_type": "execute_result"
    }
   ],
   "source": [
    "M1"
   ]
  },
  {
   "cell_type": "code",
   "execution_count": 15,
   "id": "9e83edc0",
   "metadata": {},
   "outputs": [
    {
     "data": {
      "text/plain": [
       "array([[375. ,   0. ,   0. ,   0. ,   0. ,   0. ,   0. ,   0. ,   0. ],\n",
       "       [400. ,  12.5,   0. ,   0. ,   0. ,   0. ,   0. ,   0. ,   0. ],\n",
       "       [450. ,  62.5,  25. ,   0. ,   0. ,   0. ,   0. ,   0. ,   0. ],\n",
       "       [550. , 162.5, 125. ,  50. ,   0. ,   0. ,   0. ,   0. ,   0. ],\n",
       "       [  0. ,   0. ,   0. ,   0. ,  12.5,  62.5, 150. , 225. , 450. ],\n",
       "       [  0. ,   0. ,   0. ,   0. ,   0. ,  37.5, 125. , 200. , 425. ],\n",
       "       [  0. ,   0. ,   0. ,   0. ,   0. ,   0. ,  50. , 125. , 350. ],\n",
       "       [  0. ,   0. ,   0. ,   0. ,   0. ,   0. ,   0. ,  25. , 250. ],\n",
       "       [  0. ,   0. ,   0. ,   0. ,   0. ,   0. ,   0. ,   0. , 200. ]])"
      ]
     },
     "execution_count": 15,
     "metadata": {},
     "output_type": "execute_result"
    }
   ],
   "source": [
    "M2"
   ]
  },
  {
   "cell_type": "code",
   "execution_count": 16,
   "id": "1929b212",
   "metadata": {},
   "outputs": [
    {
     "data": {
      "text/plain": [
       "array([[225. ,   0. ,   0. ,   0. ,   0. ,   0. ,   0. ,   0. ,   0. ],\n",
       "       [250. ,  12.5,   0. ,   0. ,   0. ,   0. ,   0. ,   0. ,   0. ],\n",
       "       [300. ,  62.5,  25. ,   0. ,   0. ,   0. ,   0. ,   0. ,   0. ],\n",
       "       [400. , 162.5, 125. ,  50. ,   0. ,   0. ,   0. ,   0. ,   0. ],\n",
       "       [  0. ,   0. ,   0. ,   0. ,  12.5,  62.5, 150. , 225. , 300. ],\n",
       "       [  0. ,   0. ,   0. ,   0. ,   0. ,  37.5, 125. , 200. , 275. ],\n",
       "       [  0. ,   0. ,   0. ,   0. ,   0. ,   0. ,  50. , 125. , 200. ],\n",
       "       [  0. ,   0. ,   0. ,   0. ,   0. ,   0. ,   0. ,  25. , 100. ],\n",
       "       [  0. ,   0. ,   0. ,   0. ,   0. ,   0. ,   0. ,   0. ,  50. ]])"
      ]
     },
     "execution_count": 16,
     "metadata": {},
     "output_type": "execute_result"
    }
   ],
   "source": [
    "M3"
   ]
  },
  {
   "cell_type": "code",
   "execution_count": 17,
   "id": "bcb13024",
   "metadata": {},
   "outputs": [
    {
     "data": {
      "text/plain": [
       "array([[225. ,   0. ,   0. ,   0. ,   0. ,   0. ,   0. ,   0. ,   0. ],\n",
       "       [250. ,  12.5,   0. ,   0. ,   0. ,   0. ,   0. ,   0. ,   0. ],\n",
       "       [300. ,  62.5,  25. ,   0. ,   0. ,   0. ,   0. ,   0. ,   0. ],\n",
       "       [400. , 162.5, 125. ,  50. ,   0. ,   0. ,   0. ,   0. ,   0. ],\n",
       "       [  0. ,   0. ,   0. ,   0. ,  12.5,  62.5, 150. , 225. , 350. ],\n",
       "       [  0. ,   0. ,   0. ,   0. ,   0. ,  37.5, 125. , 200. , 325. ],\n",
       "       [  0. ,   0. ,   0. ,   0. ,   0. ,   0. ,  50. , 125. , 250. ],\n",
       "       [  0. ,   0. ,   0. ,   0. ,   0. ,   0. ,   0. ,  25. , 150. ],\n",
       "       [  0. ,   0. ,   0. ,   0. ,   0. ,   0. ,   0. ,   0. , 100. ]])"
      ]
     },
     "execution_count": 17,
     "metadata": {},
     "output_type": "execute_result"
    }
   ],
   "source": [
    "M4"
   ]
  },
  {
   "cell_type": "code",
   "execution_count": 18,
   "id": "b9a2dccc",
   "metadata": {},
   "outputs": [
    {
     "data": {
      "text/plain": [
       "array([[225. ,   0. ,   0. ,   0. ,   0. ,   0. ,   0. ,   0. ,   0. ],\n",
       "       [250. ,  12.5,   0. ,   0. ,   0. ,   0. ,   0. ,   0. ,   0. ],\n",
       "       [300. ,  62.5,  25. ,   0. ,   0. ,   0. ,   0. ,   0. ,   0. ],\n",
       "       [400. , 162.5, 125. ,  50. ,   0. ,   0. ,   0. ,   0. ,   0. ],\n",
       "       [  0. ,   0. ,   0. ,   0. ,  12.5,  62.5, 150. , 225. , 450. ],\n",
       "       [  0. ,   0. ,   0. ,   0. ,   0. ,  37.5, 125. , 200. , 425. ],\n",
       "       [  0. ,   0. ,   0. ,   0. ,   0. ,   0. ,  50. , 125. , 350. ],\n",
       "       [  0. ,   0. ,   0. ,   0. ,   0. ,   0. ,   0. ,  25. , 250. ],\n",
       "       [  0. ,   0. ,   0. ,   0. ,   0. ,   0. ,   0. ,   0. , 200. ]])"
      ]
     },
     "execution_count": 18,
     "metadata": {},
     "output_type": "execute_result"
    }
   ],
   "source": [
    "M5"
   ]
  },
  {
   "cell_type": "code",
   "execution_count": 19,
   "id": "2f918b54",
   "metadata": {},
   "outputs": [
    {
     "data": {
      "text/plain": [
       "array([[ 75. ,   0. ,   0. ,   0. ,   0. ,   0. ,   0. ,   0. ,   0. ],\n",
       "       [100. ,  12.5,   0. ,   0. ,   0. ,   0. ,   0. ,   0. ,   0. ],\n",
       "       [150. ,  62.5,  25. ,   0. ,   0. ,   0. ,   0. ,   0. ,   0. ],\n",
       "       [250. , 162.5, 125. ,  50. ,   0. ,   0. ,   0. ,   0. ,   0. ],\n",
       "       [  0. ,   0. ,   0. ,   0. ,  12.5,  62.5, 150. , 225. , 300. ],\n",
       "       [  0. ,   0. ,   0. ,   0. ,   0. ,  37.5, 125. , 200. , 275. ],\n",
       "       [  0. ,   0. ,   0. ,   0. ,   0. ,   0. ,  50. , 125. , 200. ],\n",
       "       [  0. ,   0. ,   0. ,   0. ,   0. ,   0. ,   0. ,  25. , 100. ],\n",
       "       [  0. ,   0. ,   0. ,   0. ,   0. ,   0. ,   0. ,   0. ,  50. ]])"
      ]
     },
     "execution_count": 19,
     "metadata": {},
     "output_type": "execute_result"
    }
   ],
   "source": [
    "M6"
   ]
  },
  {
   "cell_type": "code",
   "execution_count": 20,
   "id": "5e92f6ef",
   "metadata": {},
   "outputs": [
    {
     "data": {
      "text/plain": [
       "array([[ 75. ,   0. ,   0. ,   0. ,   0. ,   0. ,   0. ,   0. ,   0. ],\n",
       "       [100. ,  12.5,   0. ,   0. ,   0. ,   0. ,   0. ,   0. ,   0. ],\n",
       "       [150. ,  62.5,  25. ,   0. ,   0. ,   0. ,   0. ,   0. ,   0. ],\n",
       "       [250. , 162.5, 125. ,  50. ,   0. ,   0. ,   0. ,   0. ,   0. ],\n",
       "       [  0. ,   0. ,   0. ,   0. ,  12.5,  62.5, 150. , 225. , 350. ],\n",
       "       [  0. ,   0. ,   0. ,   0. ,   0. ,  37.5, 125. , 200. , 325. ],\n",
       "       [  0. ,   0. ,   0. ,   0. ,   0. ,   0. ,  50. , 125. , 250. ],\n",
       "       [  0. ,   0. ,   0. ,   0. ,   0. ,   0. ,   0. ,  25. , 150. ],\n",
       "       [  0. ,   0. ,   0. ,   0. ,   0. ,   0. ,   0. ,   0. , 100. ]])"
      ]
     },
     "execution_count": 20,
     "metadata": {},
     "output_type": "execute_result"
    }
   ],
   "source": [
    "M7"
   ]
  },
  {
   "cell_type": "code",
   "execution_count": 21,
   "id": "3cd1bf2d",
   "metadata": {},
   "outputs": [
    {
     "data": {
      "text/plain": [
       "array([[ 75. ,   0. ,   0. ,   0. ,   0. ,   0. ,   0. ,   0. ,   0. ],\n",
       "       [100. ,  12.5,   0. ,   0. ,   0. ,   0. ,   0. ,   0. ,   0. ],\n",
       "       [150. ,  62.5,  25. ,   0. ,   0. ,   0. ,   0. ,   0. ,   0. ],\n",
       "       [250. , 162.5, 125. ,  50. ,   0. ,   0. ,   0. ,   0. ,   0. ],\n",
       "       [  0. ,   0. ,   0. ,   0. ,  12.5,  62.5, 150. , 225. , 450. ],\n",
       "       [  0. ,   0. ,   0. ,   0. ,   0. ,  37.5, 125. , 200. , 425. ],\n",
       "       [  0. ,   0. ,   0. ,   0. ,   0. ,   0. ,  50. , 125. , 350. ],\n",
       "       [  0. ,   0. ,   0. ,   0. ,   0. ,   0. ,   0. ,  25. , 250. ],\n",
       "       [  0. ,   0. ,   0. ,   0. ,   0. ,   0. ,   0. ,   0. , 200. ]])"
      ]
     },
     "execution_count": 21,
     "metadata": {},
     "output_type": "execute_result"
    }
   ],
   "source": [
    "M8"
   ]
  },
  {
   "cell_type": "code",
   "execution_count": 22,
   "id": "38c74b50",
   "metadata": {},
   "outputs": [
    {
     "data": {
      "text/html": [
       "<div>\n",
       "<style scoped>\n",
       "    .dataframe tbody tr th:only-of-type {\n",
       "        vertical-align: middle;\n",
       "    }\n",
       "\n",
       "    .dataframe tbody tr th {\n",
       "        vertical-align: top;\n",
       "    }\n",
       "\n",
       "    .dataframe thead th {\n",
       "        text-align: right;\n",
       "    }\n",
       "</style>\n",
       "<table border=\"1\" class=\"dataframe\">\n",
       "  <thead>\n",
       "    <tr style=\"text-align: right;\">\n",
       "      <th></th>\n",
       "      <th>0</th>\n",
       "      <th>1</th>\n",
       "      <th>2</th>\n",
       "      <th>3</th>\n",
       "      <th>4</th>\n",
       "      <th>5</th>\n",
       "      <th>6</th>\n",
       "      <th>7</th>\n",
       "      <th>8</th>\n",
       "    </tr>\n",
       "  </thead>\n",
       "  <tbody>\n",
       "    <tr>\n",
       "      <th>0</th>\n",
       "      <td>0.124267</td>\n",
       "      <td>0.147467</td>\n",
       "      <td>-0.073467</td>\n",
       "      <td>0.243467</td>\n",
       "      <td>0.106</td>\n",
       "      <td>0.062</td>\n",
       "      <td>0.313</td>\n",
       "      <td>2.220446e-17</td>\n",
       "      <td>0.1580</td>\n",
       "    </tr>\n",
       "    <tr>\n",
       "      <th>1</th>\n",
       "      <td>0.124267</td>\n",
       "      <td>0.147467</td>\n",
       "      <td>-0.073467</td>\n",
       "      <td>0.243467</td>\n",
       "      <td>-0.052</td>\n",
       "      <td>0.220</td>\n",
       "      <td>0.155</td>\n",
       "      <td>1.580000e-01</td>\n",
       "      <td>0.0790</td>\n",
       "    </tr>\n",
       "    <tr>\n",
       "      <th>2</th>\n",
       "      <td>0.124267</td>\n",
       "      <td>0.147467</td>\n",
       "      <td>-0.073467</td>\n",
       "      <td>0.243467</td>\n",
       "      <td>-0.131</td>\n",
       "      <td>0.299</td>\n",
       "      <td>0.076</td>\n",
       "      <td>2.370000e-01</td>\n",
       "      <td>0.0395</td>\n",
       "    </tr>\n",
       "    <tr>\n",
       "      <th>3</th>\n",
       "      <td>0.207111</td>\n",
       "      <td>-0.018222</td>\n",
       "      <td>0.092222</td>\n",
       "      <td>0.077778</td>\n",
       "      <td>0.106</td>\n",
       "      <td>0.062</td>\n",
       "      <td>0.313</td>\n",
       "      <td>2.220446e-17</td>\n",
       "      <td>0.1580</td>\n",
       "    </tr>\n",
       "    <tr>\n",
       "      <th>4</th>\n",
       "      <td>0.207111</td>\n",
       "      <td>-0.018222</td>\n",
       "      <td>0.092222</td>\n",
       "      <td>0.077778</td>\n",
       "      <td>-0.052</td>\n",
       "      <td>0.220</td>\n",
       "      <td>0.155</td>\n",
       "      <td>1.580000e-01</td>\n",
       "      <td>0.0790</td>\n",
       "    </tr>\n",
       "    <tr>\n",
       "      <th>5</th>\n",
       "      <td>0.207111</td>\n",
       "      <td>-0.018222</td>\n",
       "      <td>0.092222</td>\n",
       "      <td>0.077778</td>\n",
       "      <td>-0.131</td>\n",
       "      <td>0.299</td>\n",
       "      <td>0.076</td>\n",
       "      <td>2.370000e-01</td>\n",
       "      <td>0.0395</td>\n",
       "    </tr>\n",
       "    <tr>\n",
       "      <th>6</th>\n",
       "      <td>0.621333</td>\n",
       "      <td>-0.846667</td>\n",
       "      <td>0.920667</td>\n",
       "      <td>-0.750667</td>\n",
       "      <td>0.106</td>\n",
       "      <td>0.062</td>\n",
       "      <td>0.313</td>\n",
       "      <td>2.220446e-17</td>\n",
       "      <td>0.1580</td>\n",
       "    </tr>\n",
       "    <tr>\n",
       "      <th>7</th>\n",
       "      <td>0.621333</td>\n",
       "      <td>-0.846667</td>\n",
       "      <td>0.920667</td>\n",
       "      <td>-0.750667</td>\n",
       "      <td>-0.052</td>\n",
       "      <td>0.220</td>\n",
       "      <td>0.155</td>\n",
       "      <td>1.580000e-01</td>\n",
       "      <td>0.0790</td>\n",
       "    </tr>\n",
       "    <tr>\n",
       "      <th>8</th>\n",
       "      <td>0.621333</td>\n",
       "      <td>-0.846667</td>\n",
       "      <td>0.920667</td>\n",
       "      <td>-0.750667</td>\n",
       "      <td>-0.131</td>\n",
       "      <td>0.299</td>\n",
       "      <td>0.076</td>\n",
       "      <td>2.370000e-01</td>\n",
       "      <td>0.0395</td>\n",
       "    </tr>\n",
       "  </tbody>\n",
       "</table>\n",
       "</div>"
      ],
      "text/plain": [
       "          0         1         2         3      4      5      6             7  \\\n",
       "0  0.124267  0.147467 -0.073467  0.243467  0.106  0.062  0.313  2.220446e-17   \n",
       "1  0.124267  0.147467 -0.073467  0.243467 -0.052  0.220  0.155  1.580000e-01   \n",
       "2  0.124267  0.147467 -0.073467  0.243467 -0.131  0.299  0.076  2.370000e-01   \n",
       "3  0.207111 -0.018222  0.092222  0.077778  0.106  0.062  0.313  2.220446e-17   \n",
       "4  0.207111 -0.018222  0.092222  0.077778 -0.052  0.220  0.155  1.580000e-01   \n",
       "5  0.207111 -0.018222  0.092222  0.077778 -0.131  0.299  0.076  2.370000e-01   \n",
       "6  0.621333 -0.846667  0.920667 -0.750667  0.106  0.062  0.313  2.220446e-17   \n",
       "7  0.621333 -0.846667  0.920667 -0.750667 -0.052  0.220  0.155  1.580000e-01   \n",
       "8  0.621333 -0.846667  0.920667 -0.750667 -0.131  0.299  0.076  2.370000e-01   \n",
       "\n",
       "        8  \n",
       "0  0.1580  \n",
       "1  0.0790  \n",
       "2  0.0395  \n",
       "3  0.1580  \n",
       "4  0.0790  \n",
       "5  0.0395  \n",
       "6  0.1580  \n",
       "7  0.0790  \n",
       "8  0.0395  "
      ]
     },
     "execution_count": 22,
     "metadata": {},
     "output_type": "execute_result"
    }
   ],
   "source": [
    "pd.DataFrame(all_Q)"
   ]
  },
  {
   "cell_type": "markdown",
   "id": "0999589b",
   "metadata": {},
   "source": [
    "Since not all of the above Q vectors are non-positive (in other word, we have some negative values). The model is **not** arbitrage free."
   ]
  },
  {
   "cell_type": "markdown",
   "id": "75d23828",
   "metadata": {},
   "source": [
    "Since this is not arbitrage free model, I did not calculate the RMSE."
   ]
  },
  {
   "cell_type": "code",
   "execution_count": null,
   "id": "a5fefe97",
   "metadata": {},
   "outputs": [],
   "source": []
  }
 ],
 "metadata": {
  "kernelspec": {
   "display_name": "Python 3 (ipykernel)",
   "language": "python",
   "name": "python3"
  },
  "language_info": {
   "codemirror_mode": {
    "name": "ipython",
    "version": 3
   },
   "file_extension": ".py",
   "mimetype": "text/x-python",
   "name": "python",
   "nbconvert_exporter": "python",
   "pygments_lexer": "ipython3",
   "version": "3.9.7"
  }
 },
 "nbformat": 4,
 "nbformat_minor": 5
}
